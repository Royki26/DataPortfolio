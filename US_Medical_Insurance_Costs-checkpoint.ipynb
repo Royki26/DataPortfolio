{
 "cells": [
  {
   "cell_type": "code",
   "execution_count": 21,
   "id": "92e7b3bc",
   "metadata": {},
   "outputs": [],
   "source": [
    "import csv "
   ]
  },
  {
   "cell_type": "code",
   "execution_count": 77,
   "id": "e4ac8cec",
   "metadata": {},
   "outputs": [],
   "source": [
    "# Making a dictionary"
   ]
  },
  {
   "cell_type": "code",
   "execution_count": 78,
   "id": "aa338e98",
   "metadata": {},
   "outputs": [],
   "source": [
    "insurance_cost_dictionary = {}"
   ]
  },
  {
   "cell_type": "code",
   "execution_count": 79,
   "id": "43514694",
   "metadata": {},
   "outputs": [],
   "source": [
    "with open(\"insurance.csv\") as insurance_file:\n",
    "    insurance_read = csv.DictReader(insurance_file)\n",
    "    for i in list(range(1338)):\n",
    "        for row in insurance_read:\n",
    "            insurance_cost_dictionary[i] = row\n",
    "            i += 1"
   ]
  },
  {
   "cell_type": "code",
   "execution_count": 80,
   "id": "f773be06",
   "metadata": {},
   "outputs": [],
   "source": [
    "# print(insurance_cost_dictionary)"
   ]
  },
  {
   "cell_type": "code",
   "execution_count": 81,
   "id": "4ae8b002",
   "metadata": {},
   "outputs": [],
   "source": [
    "# Calculating average age patients in dataset"
   ]
  },
  {
   "cell_type": "code",
   "execution_count": 99,
   "id": "29882177",
   "metadata": {},
   "outputs": [],
   "source": [
    "total_age = 0"
   ]
  },
  {
   "cell_type": "code",
   "execution_count": 100,
   "id": "b1a06397",
   "metadata": {},
   "outputs": [],
   "source": [
    "for patient in insurance_cost_dictionary.values():\n",
    "    total_age += float(patient[\"age\"])"
   ]
  },
  {
   "cell_type": "code",
   "execution_count": 101,
   "id": "8949c5b9",
   "metadata": {},
   "outputs": [
    {
     "name": "stdout",
     "output_type": "stream",
     "text": [
      "39.21\n"
     ]
    }
   ],
   "source": [
    "average_age = total_age / len(insurance_cost_dictionary)\n",
    "print(round(average_age, 2))"
   ]
  },
  {
   "cell_type": "code",
   "execution_count": 86,
   "id": "e918ed1f",
   "metadata": {},
   "outputs": [],
   "source": [
    "# Where is everyone from?"
   ]
  },
  {
   "cell_type": "code",
   "execution_count": 90,
   "id": "38a5baba",
   "metadata": {},
   "outputs": [
    {
     "name": "stdout",
     "output_type": "stream",
     "text": [
      "{'southwest': 325, 'southeast': 364, 'northwest': 325, 'northeast': 324}\n"
     ]
    }
   ],
   "source": [
    "region_dictionary = {}\n",
    "for patient in insurance_cost_dictionary.values():\n",
    "    if patient[\"region\"] not in region_dictionary:\n",
    "        region_dictionary[patient[\"region\"]] = 1\n",
    "    elif patient[\"region\"] in region_dictionary:\n",
    "        region_dictionary[patient[\"region\"]] += 1\n",
    "print(region_dictionary)"
   ]
  },
  {
   "cell_type": "code",
   "execution_count": 91,
   "id": "a27323d9",
   "metadata": {},
   "outputs": [],
   "source": [
    "# Difference in costs between smokers and non-smokers"
   ]
  },
  {
   "cell_type": "code",
   "execution_count": 92,
   "id": "2df3c187",
   "metadata": {},
   "outputs": [],
   "source": [
    "count_smokers = 0\n",
    "count_non_smokers = 0\n",
    "total_cost_smokers = 0\n",
    "total_cost_non_smokers = 0"
   ]
  },
  {
   "cell_type": "code",
   "execution_count": 93,
   "id": "12be5792",
   "metadata": {},
   "outputs": [],
   "source": [
    "for patient in insurance_cost_dictionary.values():\n",
    "    if patient[\"smoker\"] == \"yes\":\n",
    "        total_cost_smokers += float(patient[\"charges\"])\n",
    "        count_smokers += 1\n",
    "    elif patient[\"smoker\"] == \"no\":\n",
    "        total_cost_non_smokers += float(patient[\"charges\"])\n",
    "        count_non_smokers += 1"
   ]
  },
  {
   "cell_type": "code",
   "execution_count": 94,
   "id": "a4766fc0",
   "metadata": {},
   "outputs": [
    {
     "name": "stdout",
     "output_type": "stream",
     "text": [
      "274\n",
      "1064\n"
     ]
    }
   ],
   "source": [
    "print(count_smokers)\n",
    "print(count_non_smokers)"
   ]
  },
  {
   "cell_type": "code",
   "execution_count": 95,
   "id": "ee1053ff",
   "metadata": {},
   "outputs": [],
   "source": [
    "average_cost_smokers = total_cost_smokers / count_smokers\n",
    "average_cost_non_smokers = total_cost_non_smokers / count_non_smokers"
   ]
  },
  {
   "cell_type": "code",
   "execution_count": 96,
   "id": "d307c1d0",
   "metadata": {},
   "outputs": [
    {
     "name": "stdout",
     "output_type": "stream",
     "text": [
      "The average insurance cost for smokers is: $ 32050.23\n",
      "The average insurance cost for non-smokers is: $ 8434.27\n"
     ]
    }
   ],
   "source": [
    "print(\"The average insurance cost for smokers is: $ \" + str(round(average_cost_smokers, 2)))\n",
    "print(\"The average insurance cost for non-smokers is: $ \" + str(round(average_cost_non_smokers, 2)))"
   ]
  },
  {
   "cell_type": "code",
   "execution_count": 102,
   "id": "62525ec6",
   "metadata": {},
   "outputs": [],
   "source": [
    "# Average age for someone with at least one child"
   ]
  },
  {
   "cell_type": "code",
   "execution_count": 103,
   "id": "b2e00a49",
   "metadata": {},
   "outputs": [],
   "source": [
    "count_at_least_one_child = 0\n",
    "total_age_more_than_one = 0"
   ]
  },
  {
   "cell_type": "code",
   "execution_count": 105,
   "id": "34f75613",
   "metadata": {},
   "outputs": [],
   "source": [
    "for patient in insurance_cost_dictionary.values():\n",
    "    if int(patient[\"children\"]) > 0:\n",
    "        total_age_more_than_one += int(patient[\"age\"])\n",
    "        count_at_least_one_child += 1"
   ]
  },
  {
   "cell_type": "code",
   "execution_count": 106,
   "id": "7989e0ca",
   "metadata": {},
   "outputs": [
    {
     "name": "stdout",
     "output_type": "stream",
     "text": [
      "764\n",
      "30392.0\n"
     ]
    }
   ],
   "source": [
    "print(count_at_least_one_child)\n",
    "print(total_age_more_than_one)"
   ]
  },
  {
   "cell_type": "code",
   "execution_count": 107,
   "id": "ee7fdbbc",
   "metadata": {},
   "outputs": [],
   "source": [
    "average_age_at_least_one_child = total_age_more_than_one / count_at_least_one_child"
   ]
  },
  {
   "cell_type": "code",
   "execution_count": 110,
   "id": "46c20245",
   "metadata": {},
   "outputs": [
    {
     "name": "stdout",
     "output_type": "stream",
     "text": [
      "The average age of patients with at least one child is 39.78.\n"
     ]
    }
   ],
   "source": [
    "print(\"The average age of patients with at least one child is {}.\".format(round(average_age_at_least_one_child, 2)))"
   ]
  },
  {
   "cell_type": "code",
   "execution_count": 111,
   "id": "942de5c0",
   "metadata": {},
   "outputs": [],
   "source": [
    "# Average age for patients with 0, 1, etc. children"
   ]
  },
  {
   "cell_type": "code",
   "execution_count": 169,
   "id": "a095e087",
   "metadata": {},
   "outputs": [
    {
     "name": "stdout",
     "output_type": "stream",
     "text": [
      "{'0': 574, '1': 324, '3': 157, '2': 240, '5': 18, '4': 25}\n",
      "{'0': 22067, '1': 12783, '3': 6526, '2': 9467, '5': 641, '4': 975}\n"
     ]
    }
   ],
   "source": [
    "amount_children_dict = {}\n",
    "total_age_children_dict = {}\n",
    "for patient in insurance_cost_dictionary.values():\n",
    "    if patient[\"children\"] not in amount_children_dict:\n",
    "        amount_children_dict[patient[\"children\"]] = 1\n",
    "        total_age_children_dict[patient[\"children\"]] = int(patient[\"age\"])\n",
    "    elif patient[\"children\"] in amount_children_dict:\n",
    "        amount_children_dict[patient[\"children\"]] += 1\n",
    "        total_age_children_dict[patient[\"children\"]] += int(patient[\"age\"])\n",
    "print(amount_children_dict)\n",
    "print(total_age_children_dict)"
   ]
  },
  {
   "cell_type": "code",
   "execution_count": 214,
   "id": "765717c0",
   "metadata": {},
   "outputs": [
    {
     "name": "stdout",
     "output_type": "stream",
     "text": [
      "The average age for a patient with 0 child/children is 38.44.\n",
      "The average age for a patient with 1 child/children is 39.45.\n",
      "The average age for a patient with 2 child/children is 39.45.\n",
      "The average age for a patient with 3 child/children is 41.57.\n",
      "The average age for a patient with 4 child/children is 39.0.\n",
      "The average age for a patient with 5 child/children is 35.61.\n"
     ]
    }
   ],
   "source": [
    "for i in list(range(6)):\n",
    "    print(\"The average age for a patient with {} child/children is {}.\"\n",
    "          .format(i, round((total_age_children_dict[\"{}\".format(i)] / amount_children_dict[\"{}\".format(i)]), 2)))"
   ]
  },
  {
   "cell_type": "code",
   "execution_count": 171,
   "id": "9e56d806",
   "metadata": {},
   "outputs": [],
   "source": [
    "# Calculating the average insurance cost by number of children"
   ]
  },
  {
   "cell_type": "code",
   "execution_count": 221,
   "id": "6aca9b62",
   "metadata": {},
   "outputs": [],
   "source": [
    "total_insurance_children_dict = {}\n",
    "for patient in insurance_cost_dictionary.values():\n",
    "    if patient[\"children\"] not in total_insurance_children_dict:\n",
    "        total_insurance_children_dict[patient[\"children\"]] = float(patient[\"charges\"])\n",
    "    elif patient[\"children\"] in total_insurance_children_dict:\n",
    "        total_insurance_children_dict[patient[\"children\"]] += float(patient[\"charges\"])"
   ]
  },
  {
   "cell_type": "code",
   "execution_count": 222,
   "id": "812f2baf",
   "metadata": {},
   "outputs": [
    {
     "name": "stdout",
     "output_type": "stream",
     "text": [
      "{'0': 7098069.995338997, '1': 4124899.673449997, '3': 2410784.983589999, '2': 3617655.296149999, '5': 158148.63445, '4': 346266.40777999995}\n"
     ]
    }
   ],
   "source": [
    "print(total_insurance_children_dict)"
   ]
  },
  {
   "cell_type": "code",
   "execution_count": 223,
   "id": "ed425f72",
   "metadata": {},
   "outputs": [
    {
     "name": "stdout",
     "output_type": "stream",
     "text": [
      "The average insurance cost for a patient with 0 child/children is $12365.98.\n",
      "The average insurance cost for a patient with 1 child/children is $12731.17.\n",
      "The average insurance cost for a patient with 2 child/children is $15073.56.\n",
      "The average insurance cost for a patient with 3 child/children is $15355.32.\n",
      "The average insurance cost for a patient with 4 child/children is $13850.66.\n",
      "The average insurance cost for a patient with 5 child/children is $8786.04.\n"
     ]
    }
   ],
   "source": [
    "for i in list(range(6)):\n",
    "    print(\"The average insurance cost for a patient with {} child/children is ${}.\"\n",
    "          .format(i, round((total_insurance_children_dict[\"{}\".format(i)] / amount_children_dict[\"{}\".format(i)]), 2)))"
   ]
  },
  {
   "cell_type": "code",
   "execution_count": 176,
   "id": "28e1c8f4",
   "metadata": {},
   "outputs": [],
   "source": [
    "# Calculating the average insurance cost for every weight group"
   ]
  },
  {
   "cell_type": "code",
   "execution_count": 177,
   "id": "b4ac468f",
   "metadata": {},
   "outputs": [],
   "source": [
    "# bmi < 18.5 is underweight\n",
    "# bmi >= 18.5 < 25 is healthy\n",
    "# bmi >= 25 < 30 is overweight\n",
    "# bmi > 30 is overweight"
   ]
  },
  {
   "cell_type": "code",
   "execution_count": 186,
   "id": "794bef0b",
   "metadata": {},
   "outputs": [],
   "source": [
    "bmi_count_dict = {\"underweight\": 0, \"healthy\": 0, \"overweight\": 0, \"obese\": 0}\n",
    "bmi_cost_dict = {\"underweight\": 0, \"healthy\": 0, \"overweight\": 0, \"obese\": 0}"
   ]
  },
  {
   "cell_type": "code",
   "execution_count": 187,
   "id": "0895b155",
   "metadata": {},
   "outputs": [],
   "source": [
    "for patient in insurance_cost_dictionary.values():\n",
    "    if float(patient[\"bmi\"]) < 18.5:\n",
    "        bmi_count_dict[\"underweight\"] += 1\n",
    "        bmi_cost_dict[\"underweight\"] += float(patient[\"charges\"])\n",
    "    elif float(patient[\"bmi\"]) < 25:\n",
    "        bmi_count_dict[\"healthy\"] += 1\n",
    "        bmi_cost_dict[\"healthy\"] += float(patient[\"charges\"])\n",
    "    elif float(patient[\"bmi\"]) < 30:\n",
    "        bmi_count_dict[\"overweight\"] += 1\n",
    "        bmi_cost_dict[\"overweight\"] += float(patient[\"charges\"])\n",
    "    elif float(patient[\"bmi\"]) >= 30:\n",
    "        bmi_count_dict[\"obese\"] += 1\n",
    "        bmi_cost_dict[\"obese\"] += float(patient[\"charges\"])"
   ]
  },
  {
   "cell_type": "code",
   "execution_count": 188,
   "id": "be225121",
   "metadata": {},
   "outputs": [
    {
     "name": "stdout",
     "output_type": "stream",
     "text": [
      "{'underweight': 20, 'healthy': 225, 'overweight': 386, 'obese': 707}\n",
      "{'underweight': 177044.01170000003, 'healthy': 2342100.9845200004, 'overweight': 4241178.818049001, 'obese': 10995501.176489996}\n"
     ]
    }
   ],
   "source": [
    "print(bmi_count_dict)\n",
    "print(bmi_cost_dict)"
   ]
  },
  {
   "cell_type": "code",
   "execution_count": 204,
   "id": "2946f921",
   "metadata": {},
   "outputs": [
    {
     "name": "stdout",
     "output_type": "stream",
     "text": [
      "The average insurance cost for underweight patients is $8852.2.\n",
      "The average insurance cost for healthy patients is $10409.34.\n",
      "The average insurance cost for overweight patients is $10987.51.\n",
      "The average insurance cost for obese patients is $15552.34.\n"
     ]
    }
   ],
   "source": [
    "for count in bmi_count_dict:\n",
    "    for cost in bmi_cost_dict:\n",
    "        if count == cost:\n",
    "            print(\"The average insurance cost for {} patients is ${}.\"\n",
    "                  .format(count, round((bmi_cost_dict[cost] / bmi_count_dict[count]), 2)))"
   ]
  }
 ],
 "metadata": {
  "kernelspec": {
   "display_name": "Python 3 (ipykernel)",
   "language": "python",
   "name": "python3"
  },
  "language_info": {
   "codemirror_mode": {
    "name": "ipython",
    "version": 3
   },
   "file_extension": ".py",
   "mimetype": "text/x-python",
   "name": "python",
   "nbconvert_exporter": "python",
   "pygments_lexer": "ipython3",
   "version": "3.9.13"
  }
 },
 "nbformat": 4,
 "nbformat_minor": 5
}
